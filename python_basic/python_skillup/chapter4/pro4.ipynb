{
 "cells": [
  {
   "cell_type": "code",
   "execution_count": 1,
   "metadata": {},
   "outputs": [],
   "source": [
    "def fibo(x):\n",
    "    a, b = 0, 1\n",
    "    if a > x:\n",
    "        return 0\n",
    "    if b ==  x:\n",
    "        return 1\n",
    "    \n",
    "    while b < x:\n",
    "        a, b = b, a+b\n",
    "    \n",
    "    return a"
   ]
  },
  {
   "cell_type": "code",
   "execution_count": 2,
   "metadata": {},
   "outputs": [
    {
     "data": {
      "text/plain": [
       "13"
      ]
     },
     "execution_count": 2,
     "metadata": {},
     "output_type": "execute_result"
    }
   ],
   "source": [
    "fibo(15)"
   ]
  },
  {
   "cell_type": "code",
   "execution_count": 3,
   "metadata": {},
   "outputs": [
    {
     "data": {
      "text/plain": [
       "987"
      ]
     },
     "execution_count": 3,
     "metadata": {},
     "output_type": "execute_result"
    }
   ],
   "source": [
    "fibo(1000)"
   ]
  },
  {
   "cell_type": "code",
   "execution_count": 4,
   "metadata": {},
   "outputs": [],
   "source": [
    "def fib(x):\n",
    "    a, b = 0, 1\n",
    "    if a > x:\n",
    "        return [0]\n",
    "    if b ==  x:\n",
    "        return [0, 1]\n",
    "    \n",
    "    fib_list = [0]\n",
    "    while b < x:\n",
    "        fib_list.append(b)\n",
    "        a, b = b, a+b\n",
    "\n",
    "    \n",
    "    return fib_list"
   ]
  },
  {
   "cell_type": "code",
   "execution_count": 5,
   "metadata": {},
   "outputs": [
    {
     "data": {
      "text/plain": [
       "[0, 1, 1, 2, 3, 5, 8, 13, 21, 34, 55, 89, 144, 233, 377, 610, 987]"
      ]
     },
     "execution_count": 5,
     "metadata": {},
     "output_type": "execute_result"
    }
   ],
   "source": [
    "fib(1000)"
   ]
  },
  {
   "cell_type": "code",
   "execution_count": 7,
   "metadata": {},
   "outputs": [
    {
     "data": {
      "text/plain": [
       "3"
      ]
     },
     "execution_count": 7,
     "metadata": {},
     "output_type": "execute_result"
    }
   ],
   "source": [
    "a = [0,1,2,3,4]\n",
    "a[-2]"
   ]
  },
  {
   "cell_type": "code",
   "execution_count": 11,
   "metadata": {},
   "outputs": [],
   "source": [
    "def pelan(num=100):\n",
    "    pelan_list = [3, 0, 2]\n",
    "\n",
    "    while True:\n",
    "        x = pelan_list[-3] + pelan_list[-2]\n",
    "        if x > num:\n",
    "            return pelan_list\n",
    "        pelan_list.append(x)"
   ]
  },
  {
   "cell_type": "code",
   "execution_count": 12,
   "metadata": {},
   "outputs": [
    {
     "data": {
      "text/plain": [
       "[3, 0, 2, 3, 2, 5, 5, 7, 10, 12, 17, 22, 29, 39, 51, 68, 90]"
      ]
     },
     "execution_count": 12,
     "metadata": {},
     "output_type": "execute_result"
    }
   ],
   "source": [
    "pelan()"
   ]
  },
  {
   "cell_type": "code",
   "execution_count": 14,
   "metadata": {},
   "outputs": [
    {
     "name": "stdout",
     "output_type": "stream",
     "text": [
      "a b c d\n",
      "a_b_c_d\n"
     ]
    }
   ],
   "source": [
    "# 引数リスト\n",
    "\n",
    "#pro4.3.1\n",
    "def concat_word(*args, separator=' '):\n",
    "    return separator.join(args)\n",
    "\n",
    "print(concat_word('a','b','c','d'))\n",
    "print(concat_word('a','b','c','d', separator='_'))\n"
   ]
  },
  {
   "cell_type": "code",
   "execution_count": null,
   "metadata": {},
   "outputs": [],
   "source": []
  }
 ],
 "metadata": {
  "interpreter": {
   "hash": "8ed9da1d91114713af8756cd957428cc0d6b96429e23599e03e84e181e4fe683"
  },
  "kernelspec": {
   "display_name": "Python 3.8.6 64-bit ('.base_venv': venv)",
   "language": "python",
   "name": "python3"
  },
  "language_info": {
   "codemirror_mode": {
    "name": "ipython",
    "version": 3
   },
   "file_extension": ".py",
   "mimetype": "text/x-python",
   "name": "python",
   "nbconvert_exporter": "python",
   "pygments_lexer": "ipython3",
   "version": "3.8.6"
  },
  "orig_nbformat": 4
 },
 "nbformat": 4,
 "nbformat_minor": 2
}
